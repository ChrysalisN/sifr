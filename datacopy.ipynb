{
 "cells": [
  {
   "cell_type": "code",
   "execution_count": 66,
   "metadata": {},
   "outputs": [],
   "source": [
    "import os\n",
    "import re\n",
    "import shutil\n",
    "import json"
   ]
  },
  {
   "cell_type": "code",
   "execution_count": 68,
   "metadata": {},
   "outputs": [],
   "source": [
    "loss = ['ridge','logistic','hinge','sqhinge']\n",
    "loss = ['ridge','logistic','hinge','sqhinge']\n",
    "dataset_list=[\"a9a\",'ijcnn1','w8a','SUSY','HIGGS',\"a1a\",'w1a',]\n",
    "\n",
    "old_name = \"\\\"name\\\":\\\"sifr\\\",\"\n",
    "new_name = \"\\\"name\\\":\\\"sifr\\\",\\\"beta\\\":\\\"10\\\",\"\n",
    "old_name = \"svrg\"\n",
    "old_path = \"./\"\n",
    "new_path = \"/home/wpc/Desktop/data/befor_alpha/\"\n",
    "# old_path = \"/home/wpc/Desktop/data/temp/\"\n",
    "# old_path = \"/home/wpc/Desktop/hh/cgvr/\""
   ]
  },
  {
   "cell_type": "code",
   "execution_count": 65,
   "metadata": {},
   "outputs": [
    {
     "name": "stdout",
     "output_type": "stream",
     "text": [
      "/home/wpc/Desktop/hh/cgvr/ridge/a9a-4-test.txt\n",
      "/home/wpc/Desktop/hh/cgvr/ridge/ijcnn1-4-test.txt\n",
      "/home/wpc/Desktop/hh/cgvr/ridge/w8a-4-test.txt\n",
      "/home/wpc/Desktop/hh/cgvr/ridge/SUSY-4-test.txt\n",
      "/home/wpc/Desktop/hh/cgvr/ridge/a1a-4-test.txt\n",
      "/home/wpc/Desktop/hh/cgvr/ridge/w1a-4-test.txt\n",
      "/home/wpc/Desktop/hh/cgvr/logistic/a9a-4-test.txt\n",
      "/home/wpc/Desktop/hh/cgvr/logistic/ijcnn1-4-test.txt\n",
      "/home/wpc/Desktop/hh/cgvr/logistic/w8a-4-test.txt\n",
      "/home/wpc/Desktop/hh/cgvr/logistic/SUSY-4-test.txt\n",
      "/home/wpc/Desktop/hh/cgvr/logistic/a1a-4-test.txt\n",
      "/home/wpc/Desktop/hh/cgvr/logistic/w1a-4-test.txt\n",
      "/home/wpc/Desktop/hh/cgvr/hinge/a9a-4-test.txt\n",
      "/home/wpc/Desktop/hh/cgvr/hinge/ijcnn1-4-test.txt\n",
      "/home/wpc/Desktop/hh/cgvr/hinge/w8a-4-test.txt\n",
      "/home/wpc/Desktop/hh/cgvr/hinge/SUSY-4-test.txt\n",
      "/home/wpc/Desktop/hh/cgvr/hinge/a1a-4-test.txt\n",
      "/home/wpc/Desktop/hh/cgvr/hinge/w1a-4-test.txt\n",
      "/home/wpc/Desktop/hh/cgvr/sqhinge/a9a-4-test.txt\n",
      "/home/wpc/Desktop/hh/cgvr/sqhinge/ijcnn1-4-test.txt\n",
      "/home/wpc/Desktop/hh/cgvr/sqhinge/w8a-4-test.txt\n",
      "/home/wpc/Desktop/hh/cgvr/sqhinge/SUSY-4-test.txt\n",
      "/home/wpc/Desktop/hh/cgvr/sqhinge/a1a-4-test.txt\n",
      "/home/wpc/Desktop/hh/cgvr/sqhinge/w1a-4-test.txt\n"
     ]
    }
   ],
   "source": [
    "for l in loss:\n",
    "    for dataset in dataset_list:\n",
    "        filename=old_path+l+\"/\"+dataset+\"-4-test.txt\"\n",
    "        print(filename)\n",
    "        if os.path.isfile(filename) :\n",
    "            data=\"\"\n",
    "            with open(filename, 'r+') as f:\n",
    "                for line in f.readlines():\n",
    "#                     obj=json.loads(line)\n",
    "#                     if (obj[\"name\"]==\"cgvr\" or obj[\"name\"]==\"sifr\" ) and  not \"beta\" in obj.keys():\n",
    "#                         obj[\"beta\"]=\"10\"\n",
    "#                     data += json.dumps(obj)+\"\\n\"\n",
    "                    \n",
    "                            \n",
    "                    if re.search(old_name,line):\n",
    "                        line=re.sub(old_name,new_name,line)\n",
    "                        continue\n",
    "                    data += line\n",
    "\n",
    "            with open(filename, 'w') as f:\n",
    "                f.writelines(data)"
   ]
  },
  {
   "cell_type": "code",
   "execution_count": 60,
   "metadata": {},
   "outputs": [],
   "source": [
    "for l in loss:\n",
    "    for dataset in dataset_list:\n",
    "        filename=old_path+l+\"/\"+dataset+\"-acc-test.txt\"\n",
    "#         print(filename)\n",
    "        if os.path.isfile(filename) :\n",
    "            data=\"\"\n",
    "            with open(filename, 'r+') as f:\n",
    "                for line in f.readlines():\n",
    "                    if re.search(old_name,line):\n",
    "                        line=re.sub(old_name,new_name,line)\n",
    "                    data += line\n",
    "\n",
    "            with open(filename, 'r+') as f:\n",
    "                f.writelines(data)"
   ]
  },
  {
   "cell_type": "code",
   "execution_count": null,
   "metadata": {},
   "outputs": [],
   "source": [
    "for l in loss:\n",
    "    if not os.path.exists(new_path+new_name):\n",
    "        os.mkdir(new_path+new_name)\n",
    "    if os.path.exists(old_path+l):\n",
    "        file_path=new_path+new_name+\"/\"+l+\"/\"\n",
    "        if not os.path.exists(file_path):\n",
    "            os.mkdir(file_path)\n",
    "        for root, dirs, files in os.walk(old_path+l):\n",
    "            for file in files:\n",
    "                src_file = os.path.join(root, file)\n",
    "                print(src_file, file_path)\n",
    "                shutil.copy(src_file, file_path)        \n",
    "#         else :\n",
    "#             shutil.move(old_path+l,new_path+new_name+\"/\")"
   ]
  },
  {
   "cell_type": "code",
   "execution_count": 62,
   "metadata": {},
   "outputs": [],
   "source": [
    "for l in loss:\n",
    "    for dataset in dataset_list:\n",
    "        filename=old_path+l+\"/\"+dataset+\"-acc-test.txt\"\n",
    "#         filename2=new_path+l+\"/\"+dataset+\"-acc-test.txt\"\n",
    "        if os.path.isfile(filename) :\n",
    "            data=\"\"\n",
    "            with open(filename, 'r+') as f:\n",
    "                for line in f.readlines():\n",
    "#                     if re.search(old_name,line):\n",
    "#                         line=re.sub(old_name,new_name,line)\n",
    "                    data += line\n",
    "\n",
    "            with open(filename2, 'a') as f:\n",
    "                f.writelines(data)"
   ]
  },
  {
   "cell_type": "code",
   "execution_count": null,
   "metadata": {},
   "outputs": [],
   "source": []
  }
 ],
 "metadata": {
  "kernelspec": {
   "display_name": "Python 3",
   "language": "python",
   "name": "python3"
  },
  "language_info": {
   "codemirror_mode": {
    "name": "ipython",
    "version": 3
   },
   "file_extension": ".py",
   "mimetype": "text/x-python",
   "name": "python",
   "nbconvert_exporter": "python",
   "pygments_lexer": "ipython3",
   "version": "3.7.4"
  }
 },
 "nbformat": 4,
 "nbformat_minor": 4
}
